{
 "cells": [
  {
   "cell_type": "markdown",
   "id": "3a420a72-6fc8-4ed2-aa3c-745bd34a4cf6",
   "metadata": {},
   "source": [
    "## Big Data Bowl Metric Calculation\n",
    "\n",
    "*Big Data Bowl 2024 Submission*  \n",
    "*By Eli Gnesin*  \n",
    "*Masters of Statistical Science, Duke University*\n",
    "\n",
    "This notebook was used to calculate the **TOCQ: Tackle Opportunity Containment Quotient** metric I created for Big Data Bowl 2024. "
   ]
  },
  {
   "cell_type": "markdown",
   "id": "546d680b-45c0-431c-8afb-2f392e48c086",
   "metadata": {},
   "source": [
    "### Setup"
   ]
  },
  {
   "cell_type": "code",
   "execution_count": 1,
   "id": "bc7a8b76-87cf-4c6a-b78a-e98a63bf9a78",
   "metadata": {},
   "outputs": [],
   "source": [
    "# import packages\n",
    "import pandas as pd\n",
    "import numpy as np\n",
    "from zipfile import ZipFile\n",
    "import matplotlib.pyplot as plt\n",
    "import matplotlib.patches as patch\n",
    "import seaborn as sns\n",
    "import math\n",
    "from shapely import geometry\n",
    "import shapely\n",
    "import imageio\n",
    "import os\n",
    "from tqdm import tqdm\n",
    "\n",
    "import warnings\n",
    "warnings.filterwarnings(\"ignore\")"
   ]
  },
  {
   "cell_type": "code",
   "execution_count": 2,
   "id": "50ca753b-4839-4bca-b8c0-ef0d57a7afee",
   "metadata": {},
   "outputs": [],
   "source": [
    "# Read in the data\n",
    "games = pd.read_csv(\"games.csv\")\n",
    "plays = pd.read_csv(\"plays.csv\")\n",
    "tackles = pd.read_csv(\"tackles.csv\")\n",
    "players = pd.read_csv(\"players.csv\")"
   ]
  },
  {
   "cell_type": "markdown",
   "id": "31da3242-77e9-4823-a9e6-28cb58785647",
   "metadata": {},
   "source": [
    "### Functions\n",
    "\n",
    "For this notebook I am writing 4 functions:\n",
    "1.  `get_all_plays_and_def` takes a `game_Id` and returns the ID of every play in the game in the dataset, as well as the defensive team during that play.\n",
    "   \n",
    "3.  `prep_play` takes 4 arguments: a tracking dataframe, a `game_Id`, a `play_Id` and the defensive team during the given play. It then subsets the tracking data to the given play in the given game and does the following:\n",
    "   -  Calculates the `x` and `y` bounds for the play (for visualization purposes)\n",
    "   -  Subsets to only observations for the football or the defensive team\n",
    "   -  Drops all data from frames prior to the ball snap (if available) or pass catch (if available) and after the tackle/out of bounds/slide/sack\n",
    "   -  Returns the dataframe, the list of frames kept, and a tuple of the bounds\n",
    "     \n",
    "3.  `plot_play` takes the outputs of the `prep_play` function, as well as a binary `save` argument to save the results rather than just displaying them. It then iterates through the frames, and for each frame makes a plot with each defensive player's location (marked in black) and tackle zone, and the location of the football (marked in brown). For players where the football is within the tackle zone, the zone is colored purple, and for players where the football is not within the tackle zone, the zone is colored orange. If `save = False`, the function just outputs each frame as it is created, and if `save = True`, the function saves each frame into the \"frames\" folder into a play specific subfolder, then uses the frame images to create a gif for the play.\n",
    "   \n",
    "5.  `count_instances` is the key function for counting tackle opportunities and containments, and takes a prepped play dataframe and the defensive team as its primary arguments. It then does the following:\n",
    "   -  Create an empty dictionary with a key for each player_id with his team\n",
    "   -  Determines the \"action frame\" where the tackle/out of bounds/sack/slide/fumble occurs and exits if one does not exist (such as a touchdown)\n",
    "   -  Iterates through each frame and creates the tackle zone for each defensive player as well as recording the football position\n",
    "   -  In each frame, checks if the football is in the tackle zone for each player to record \"tackle opportunity\"\n",
    "   -  In the \"action frame\", checks if the football is in the tackle zone for each player to record \"tackle containment\"\n",
    "   -  Returns the dictionary for the play  \n",
    "There are three other arguments for `count_instances`. The first, `dictionary` allows the user to pass a dictionary forward, and then `count_instances` aggregates the current play into the previous dictionary and returns both the dictionary for the individual play and the modified dictionary passed in. This is crucial for calculating **TOCQ** because the metric is over the course of a game or season, not an individual play. the second argument, `oneplay`, is a debugging tool that assumes `dictionary = None` is passed in, and returns only the dictionary from the given play. The final argument, `verbose`, is a useful debugging tool that flags instances where there may be faulty tracking data or where there is no \"action frame\". In these instances, the function returns silently if `verbose = False` with only the `dictionary` and `None` for the dictionary for the current play, and offers a useful print line if `verbose = True`."
   ]
  },
  {
   "cell_type": "code",
   "execution_count": 3,
   "id": "4c3285d5-f0bd-4b6e-8c4d-3b3d9b7bc2e6",
   "metadata": {},
   "outputs": [],
   "source": [
    "## Helper functions\n",
    "\n",
    "def get_all_plays_and_def(gameID):\n",
    "    game = plays[plays.gameId == gameID]\n",
    "    playIDs = pd.unique(game.playId)\n",
    "    def_teams = [game[game.playId == i].defensiveTeam.iloc[0] for i in playIDs]\n",
    "    return (playIDs, def_teams)\n",
    "\n",
    "def prep_play(tracking_data, gameID, playID, def_team):\n",
    "    play = tracking_data[(tracking_data.gameId == gameID) & \n",
    "                         (tracking_data.playId == playID)]\n",
    "    (xmin, xmax) = (min(play.x)-1, max(play.x)+1)\n",
    "    (ymin, ymax) = (min(play.y)-1, max(play.y)+1) \n",
    "    play = play[((play.club == def_team) | (play.club == \"football\"))]\n",
    "    events = play[[\"event\", \"frameId\"]].drop_duplicates()\n",
    "    if \"ball_snap\" in events.event.values:\n",
    "        idx = events[events.event == \"ball_snap\"].frameId.iloc[0]\n",
    "        events = events.loc[events.frameId >= idx]\n",
    "    if \"pass_outcome_caught\" in events.event.values:\n",
    "        idx = events[events.event == \"pass_outcome_caught\"].frameId.iloc[0]\n",
    "        events = events.loc[events.frameId >= idx]\n",
    "    if \"tackle\" in events.event.values:\n",
    "        idx = events[events.event == \"tackle\"].frameId.iloc[0]\n",
    "        events = events.loc[events.frameId <= idx]\n",
    "    elif \"out_of_bounds\" in events.event.values:\n",
    "        idx = events[events.event == \"out_of_bounds\"].frameId.iloc[0]\n",
    "        events = events.loc[events.frameId <= idx]\n",
    "    elif \"qb_slide\" in events.event.values:\n",
    "        idx = events[events.event == \"qb_slide\"].frameId.iloc[0]\n",
    "        events = events.loc[events.frameId <= idx]\n",
    "    elif \"qb_sack\" in events.event.values:\n",
    "        idx = events[events.event == \"qb_sack\"].frameId.iloc[0]\n",
    "        events = events.loc[events.frameId <= idx]\n",
    "    elif \"fumble\" in events.event.values:\n",
    "        idx = events[events.event == \"fumble\"].frameId.iloc[0]\n",
    "        events = events.loc[events.frameId <= idx]\n",
    "    elif \"safety\" in events.event.values:\n",
    "        idx = events[events.event == \"safety\"].frameId.iloc[0]\n",
    "        events = events.loc[events.frameId <= idx]\n",
    "    frames = pd.unique(events.frameId)\n",
    "    \n",
    "    play = play[(play.frameId >= min(frames)) & (play.frameId <= max(frames))]\n",
    "\n",
    "    return [play, frames, (xmin,xmax), (ymin,ymax)]"
   ]
  },
  {
   "cell_type": "code",
   "execution_count": 4,
   "id": "8599a37b-453a-4fd5-aeed-5a939b42e239",
   "metadata": {},
   "outputs": [],
   "source": [
    "# Visualization function\n",
    "\n",
    "def plot_play(prepped, frames, bounds, save = True):\n",
    "    game_id = prepped.gameId.iloc[0]\n",
    "    play_id = prepped.playId.iloc[0]\n",
    "    for i in frames:\n",
    "        fig, ax = plt.subplots()\n",
    "        frame = prepped[prepped.frameId == i]\n",
    "        ax.set_xlim(left = bounds[0][0], right = bounds[0][1])\n",
    "        ax.set_ylim(bottom = bounds[1][0], top = bounds[1][1])\n",
    "        wedges = [None] * 11\n",
    "        \n",
    "        for j in range(len(frame)):\n",
    "            res = frame.iloc[j]\n",
    "            if res.club != \"football\":\n",
    "                # Creating plot \n",
    "                ax.plot(res.x, res.y, color = \"black\", marker = \"o\", markersize = 3)\n",
    "                wedges[j]  = patch.Wedge((X[0], Y[0]), r = 2, theta1 = ((-res.o+90) - 75) % 360, theta2 = ((-res.o+90) + 75) % 360, \n",
    "                                         color = \"orange\", alpha = 0.25)\n",
    "\n",
    "            # Plot the football\n",
    "            else:\n",
    "                ax.plot(res.x, res.y, color = \"brown\", marker = \".\", markersize = 20)\n",
    "                for wedge in wedges:\n",
    "                    if wedge.contains_point((res.x,res.y)):\n",
    "                        wedge.set_color(\"purple\")\n",
    "                        ax.add_patch(wedge)\n",
    "                    else:\n",
    "                        ax.add_patch(wedge)\n",
    "\n",
    "            ax.set_xticks([])\n",
    "            ax.set_yticks([])\n",
    "        if save:\n",
    "            path = f\"frames/{game_id}_{play_id}\"\n",
    "            if not os.path.exists(path):\n",
    "                os.makedirs(path)\n",
    "            if i < 10:\n",
    "                plt.savefig(f\"frames/{game_id}_{play_id}/frame_0{i}.png\")\n",
    "            else:\n",
    "                plt.savefig(f\"frames/{game_id}_{play_id}/frame_{i}.png\")\n",
    "        plt.show()\n",
    "    \n",
    "    if save: # make gif\n",
    "        png_dir = f'./frames/{game_id}_{play_id}/'\n",
    "        images = []\n",
    "        for file_name in sorted(os.listdir(png_dir)):\n",
    "            if file_name.endswith('.png'):\n",
    "                file_path = os.path.join(png_dir, file_name)\n",
    "                images.append(imageio.imread(file_path))\n",
    "\n",
    "        # Make it pause at the end so that the viewers can ponder\n",
    "        for _ in range(10):\n",
    "            images.append(imageio.imread(file_path))\n",
    "\n",
    "        imageio.mimsave(f'./{game_id}_{play_id}.gif', images)"
   ]
  },
  {
   "cell_type": "code",
   "execution_count": 5,
   "id": "d4fd7ae5-e3a0-4a06-884a-85ef90b54e63",
   "metadata": {},
   "outputs": [],
   "source": [
    "# Calculation function\n",
    "\n",
    "def count_instances(prepped, club = \"\", dictionary = None, oneplay = False, verbose = True):\n",
    "    players = [f\"{str(int(q))}_{club}\" for q in pd.unique(prepped.nflId[prepped.nflId.notna()])]\n",
    "    newdict = {}\n",
    "    for player in players:\n",
    "        newdict[player] = np.array([0,0])\n",
    "    \n",
    "    frames = prepped[[\"event\", \"frameId\"]].drop_duplicates()\n",
    "    action_frame = None\n",
    "    for frame in frames.values:\n",
    "        if frame[0] in [\"tackle\", \"out_of_bounds\", \"qb_slide\", \"qb_sack\", \"fumble\", \"safety\"]:\n",
    "            action_frame = frame[1]\n",
    "    if action_frame is None:\n",
    "        if verbose:\n",
    "            print(f\"No tackle/action event available for play {prepped.playId.values[0]} in game {prepped.gameId.values[0]}\")\n",
    "        return dictionary, None\n",
    "    frames = frames.frameId.values\n",
    "    for frame in frames:\n",
    "        play_frame = prepped[prepped.frameId == frame]\n",
    "        wedges = [None] * 11\n",
    "        players_frame = play_frame[play_frame.nflId.notna()]\n",
    "        player_ids = players_frame.nflId.values\n",
    "        for j in range(len(players_frame)):\n",
    "            res = play_frame.iloc[j]\n",
    "            wedges[j]  = patch.Wedge((res.x, res.y), r = 2, \n",
    "                                    theta1 = ((-res.o+90) - 75) % 360, \n",
    "                                    theta2 = ((-res.o+90) + 75) % 360)\n",
    "        football = play_frame[play_frame.displayName == \"football\"]\n",
    "        football_loc = (football.x.values[0], football.y.values[0])\n",
    "        \n",
    "        if wedges[0] is None:\n",
    "            if verbose:\n",
    "                print(f\"Faulty tracking data for play {prepped.playId.values[0]} in game {prepped.gameId.values[0]}\")\n",
    "            return dictionary, None\n",
    "                \n",
    "        for i in range(len(wedges)):\n",
    "            wedge = wedges[i]\n",
    "            if wedge.contains_point(football_loc):\n",
    "                newdict[f\"{str(int(player_ids[i]))}_{club}\"] = np.array([1,0])\n",
    "                \n",
    "        if frame == action_frame:\n",
    "            for i in range(len(wedges)):\n",
    "                wedge = wedges[i]\n",
    "                if wedge.contains_point(football_loc):\n",
    "                    newdict[f\"{str(int(player_ids[i]))}_{club}\"] = np.array([1,1])\n",
    "                    \n",
    "    if dictionary is not None:\n",
    "        for player in players:\n",
    "            if player not in dictionary.keys():\n",
    "                dictionary[player] = newdict[player]\n",
    "            else:\n",
    "                dictionary[player] = dictionary[player] + newdict[player]\n",
    "        \n",
    "        return dictionary, newdict\n",
    "                \n",
    "    return newdict"
   ]
  },
  {
   "cell_type": "markdown",
   "id": "16076ebd-a7bb-4af4-b3c9-a817f6b3c27f",
   "metadata": {},
   "source": [
    "### Calculating TOCQ\n",
    "\n",
    "With the given functions above, we can now calculate **TOCQ** relatively efficiently. For this, I iterated through the weeks, then through the game IDs for each week, collected all plays in the game with `get_all_plays_and_def`, and then for each play prepped the play with `prep_play` and called `count_instances` for the counting. I had a rolling dictionary with the `dictionary` argument that got passed in play after play, which allowed me to collect half-season long data for every player and team. I also returned the play dictionary for each play and aggregated them together by game, which will allow me to look at metrics by game/team combinations and against particular opponents as well.\n",
    "\n",
    "The `tqdm` time for this calculation is approximately 25-28 minutes, depending on server speed and other factors."
   ]
  },
  {
   "cell_type": "code",
   "execution_count": 6,
   "id": "6126b97c-d6cf-4f4e-994c-63b6a7b7e19b",
   "metadata": {
    "tags": []
   },
   "outputs": [
    {
     "name": "stdout",
     "output_type": "stream",
     "text": [
      "1\n"
     ]
    },
    {
     "name": "stderr",
     "output_type": "stream",
     "text": [
      "100%|██████████| 16/16 [02:51<00:00, 10.74s/it]\n"
     ]
    },
    {
     "name": "stdout",
     "output_type": "stream",
     "text": [
      "2\n"
     ]
    },
    {
     "name": "stderr",
     "output_type": "stream",
     "text": [
      "100%|██████████| 16/16 [02:47<00:00, 10.48s/it]\n"
     ]
    },
    {
     "name": "stdout",
     "output_type": "stream",
     "text": [
      "3\n"
     ]
    },
    {
     "name": "stderr",
     "output_type": "stream",
     "text": [
      "100%|██████████| 16/16 [02:52<00:00, 10.79s/it]\n"
     ]
    },
    {
     "name": "stdout",
     "output_type": "stream",
     "text": [
      "4\n"
     ]
    },
    {
     "name": "stderr",
     "output_type": "stream",
     "text": [
      "100%|██████████| 16/16 [02:51<00:00, 10.75s/it]\n"
     ]
    },
    {
     "name": "stdout",
     "output_type": "stream",
     "text": [
      "5\n"
     ]
    },
    {
     "name": "stderr",
     "output_type": "stream",
     "text": [
      "100%|██████████| 16/16 [02:58<00:00, 11.17s/it]\n"
     ]
    },
    {
     "name": "stdout",
     "output_type": "stream",
     "text": [
      "6\n"
     ]
    },
    {
     "name": "stderr",
     "output_type": "stream",
     "text": [
      "100%|██████████| 14/14 [02:32<00:00, 10.90s/it]\n"
     ]
    },
    {
     "name": "stdout",
     "output_type": "stream",
     "text": [
      "7\n"
     ]
    },
    {
     "name": "stderr",
     "output_type": "stream",
     "text": [
      "100%|██████████| 14/14 [02:37<00:00, 11.25s/it]\n"
     ]
    },
    {
     "name": "stdout",
     "output_type": "stream",
     "text": [
      "8\n"
     ]
    },
    {
     "name": "stderr",
     "output_type": "stream",
     "text": [
      "100%|██████████| 15/15 [02:51<00:00, 11.45s/it]\n"
     ]
    },
    {
     "name": "stdout",
     "output_type": "stream",
     "text": [
      "9\n"
     ]
    },
    {
     "name": "stderr",
     "output_type": "stream",
     "text": [
      "100%|██████████| 13/13 [02:20<00:00, 10.81s/it]\n"
     ]
    }
   ],
   "source": [
    "# Calculate the metric\n",
    "\n",
    "dictionary = {}\n",
    "games_dict = {}\n",
    "for week_num in range(1,10):\n",
    "    print(week_num)\n",
    "    game_IDs = pd.unique(games[games.week == week_num].gameId)\n",
    "    tracking = pd.read_csv(f\"tracking_week_{week_num}.csv\")\n",
    "    for game_id in tqdm(game_IDs):\n",
    "        plays_def = get_all_plays_and_def(game_id)\n",
    "        for i in range(len(plays_def[0])):\n",
    "            play_num = plays_def[0][i]\n",
    "            def_team = plays_def[1][i]\n",
    "            prepped_play = prep_play(tracking, game_id, play_num, def_team)\n",
    "            dictionary, game_dict = count_instances(prepped_play[0], def_team, dictionary = dictionary, verbose = False)\n",
    "        \n",
    "            # Saving the Game dict\n",
    "            if game_dict is not None:\n",
    "                if game_id in games_dict.keys():\n",
    "                    for k in game_dict.keys():\n",
    "                        if k in games_dict[game_id].keys():\n",
    "                            games_dict[game_id][k] = games_dict[game_id][k] + game_dict[k]\n",
    "                        else:\n",
    "                            games_dict[game_id][k] = game_dict[k]\n",
    "                else:\n",
    "                    games_dict[game_id] = game_dict"
   ]
  },
  {
   "cell_type": "markdown",
   "id": "65af09c8-5fc0-4206-917d-1237174b7003",
   "metadata": {},
   "source": [
    "### Saving Results\n",
    "\n",
    "I want to save both the full results dictionary and the dictionary of game dictionaries as CSV files so I can move them over to R for cleaner visualizations. For the full dictionary, each row corresponds to a player/team combination (so players who changed teams will have multiple rows) and includes their name, team, and position. For the game dictionaries, the CSV file will have each game/player combination as a row, with the player's name, team, and position included as well."
   ]
  },
  {
   "cell_type": "code",
   "execution_count": 7,
   "id": "1b00b663-50eb-4152-b3dd-151c911d12d5",
   "metadata": {},
   "outputs": [],
   "source": [
    "full_dict = pd.DataFrame.from_dict(data=dictionary, orient='index', columns =[\"Opportunities\", \"Contains\"])\n",
    "full_dict.reset_index(inplace = True)\n",
    "full_dict[['Player_ID', 'Team']] = full_dict['index'].str.split('_', expand=True)\n",
    "full_dict[\"Player_Name\"] = full_dict.Player_ID.apply(lambda x: players[players.nflId == int(x)].displayName.values[0])\n",
    "full_dict[\"Position\"] = full_dict.Player_ID.apply(lambda x: players[players.nflId == int(x)].position.values[0])\n",
    "full_dict.to_csv('full_dictionary.csv', header=True)"
   ]
  },
  {
   "cell_type": "code",
   "execution_count": 8,
   "id": "af9892ef-f6d0-4887-a8d0-a7d458310467",
   "metadata": {},
   "outputs": [],
   "source": [
    "games_df = pd.DataFrame.from_dict(data=games_dict).melt(var_name = \"game\", ignore_index = False)\n",
    "games_df.reset_index(inplace = True)\n",
    "games_df[['Player_ID', 'Team']] = games_df['index'].str.split('_', expand=True)\n",
    "games_df.dropna(inplace = True)\n",
    "games_df['Opportunities'] = games_df[\"value\"].apply(lambda x: x[0])\n",
    "games_df['Contains'] = games_df[\"value\"].apply(lambda x: x[1])\n",
    "games_df[\"Player_Name\"] = games_df.Player_ID.apply(lambda x: players[players.nflId == int(x)].displayName.values[0])\n",
    "games_df[\"Position\"] = games_df.Player_ID.apply(lambda x: players[players.nflId == int(x)].position.values[0])\n",
    "games_df.drop(\"value\", axis = 1,inplace = True)\n",
    "games_df.to_csv(\"games_dictionary.csv\", header = True)"
   ]
  }
 ],
 "metadata": {
  "kernelspec": {
   "display_name": "Python 3 (ipykernel)",
   "language": "python",
   "name": "python3"
  },
  "language_info": {
   "codemirror_mode": {
    "name": "ipython",
    "version": 3
   },
   "file_extension": ".py",
   "mimetype": "text/x-python",
   "name": "python",
   "nbconvert_exporter": "python",
   "pygments_lexer": "ipython3",
   "version": "3.11.7"
  }
 },
 "nbformat": 4,
 "nbformat_minor": 5
}
